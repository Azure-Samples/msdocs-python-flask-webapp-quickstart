{
 "cells": [
  {
   "cell_type": "markdown",
   "metadata": {
    "application/vnd.databricks.v1+cell": {
     "cellMetadata": {},
     "inputWidgets": {},
     "nuid": "878c2f9c-0487-4edc-8839-5e909327df8c",
     "showTitle": false,
     "tableResultSettingsMap": {},
     "title": ""
    }
   },
   "source": [
    "# Make an app notebook tutorial/pipeline"
   ]
  },
  {
   "cell_type": "code",
   "execution_count": 0,
   "metadata": {
    "application/vnd.databricks.v1+cell": {
     "cellMetadata": {},
     "inputWidgets": {},
     "nuid": "de5b27db-2c2f-4d47-8a97-9a7df2482807",
     "showTitle": false,
     "tableResultSettingsMap": {},
     "title": ""
    }
   },
   "outputs": [],
   "source": [
    "%pip install -U flask\n",
    "dbutils.library.restartPython()"
   ]
  },
  {
   "cell_type": "code",
   "execution_count": 0,
   "metadata": {
    "application/vnd.databricks.v1+cell": {
     "cellMetadata": {
      "byteLimit": 2048000,
      "rowLimit": 10000
     },
     "inputWidgets": {},
     "nuid": "f41b7610-5f26-4c3e-98ae-792dd4e4c858",
     "showTitle": false,
     "tableResultSettingsMap": {},
     "title": ""
    }
   },
   "outputs": [],
   "source": [
    "import os \n",
    "import base64\n",
    "import openai\n",
    "from openai import AzureOpenAI  \n",
    "from azure.identity import DefaultAzureCredential, get_bearer_token_provider"
   ]
  },
  {
   "cell_type": "code",
   "execution_count": 0,
   "metadata": {
    "application/vnd.databricks.v1+cell": {
     "cellMetadata": {
      "byteLimit": 2048000,
      "rowLimit": 10000
     },
     "inputWidgets": {},
     "nuid": "6d7439ce-d5be-4bb1-8e1a-4c59f9397848",
     "showTitle": false,
     "tableResultSettingsMap": {},
     "title": ""
    }
   },
   "outputs": [],
   "source": [
    "print(openai.__version__)"
   ]
  },
  {
   "cell_type": "code",
   "execution_count": 0,
   "metadata": {
    "application/vnd.databricks.v1+cell": {
     "cellMetadata": {},
     "inputWidgets": {},
     "nuid": "e179e4f5-f53b-40f6-bc22-5bc87089860c",
     "showTitle": true,
     "tableResultSettingsMap": {},
     "title": "do it once"
    }
   },
   "outputs": [],
   "source": [
    "# #: store your AOAI API KEY in databricks secret vault\n",
    "# databricks secrets put-secret yyang_secret_scope AZURE_OPENAI_API_KEY\n",
    "# then use your editor to input your key string value and save."
   ]
  },
  {
   "cell_type": "code",
   "execution_count": 0,
   "metadata": {
    "application/vnd.databricks.v1+cell": {
     "cellMetadata": {
      "byteLimit": 2048000,
      "rowLimit": 10000
     },
     "inputWidgets": {},
     "nuid": "f1ea37f0-1424-4dd2-b0f9-4e12853e5957",
     "showTitle": false,
     "tableResultSettingsMap": {},
     "title": ""
    }
   },
   "outputs": [],
   "source": [
    "with open('index.html', 'w') as file:\n",
    "    file.write('''<!doctype html>\n",
    "<head>\n",
    "    <title>Hello Azure - Python Quickstart</title>\n",
    "    <link rel=\"stylesheet\" href=\"{{ url_for('static', filename='bootstrap/css/bootstrap.min.css') }}\">\n",
    "    <link rel=\"shortcut icon\" href=\"{{ url_for('static', filename='favicon.ico') }}\">\n",
    "</head>\n",
    "<html>\n",
    "   <body>\n",
    "     <main>\n",
    "        <div class=\"px-4 py-3 my-2 text-center\">\n",
    "            <img class=\"d-block mx-auto mb-4\" src=\"{{ url_for('static', filename='images/azure-icon.svg') }}\" alt=\"Azure Logo\" width=\"192\" height=\"192\"/>\n",
    "            <!-- <img  src=\"/docs/5.1/assets/brand/bootstrap-logo.svg\" alt=\"\" width=\"72\" height=\"57\"> -->\n",
    "            <h1 class=\"display-6 fw-bold text-primary\">Welcome to Azure</h1>            \n",
    "          </div>\n",
    "        <form method=\"post\" action=\"{{url_for('hello')}}\">\n",
    "            <div class=\"col-md-6 mx-auto text-center\">\n",
    "                <label for=\"req\" class=\"form-label fw-bold fs-5\">Input query below:</label>\n",
    "\n",
    "                <!-- <p class=\"lead mb-2\">Could you please tell me your name?</p> -->\n",
    "                <div class=\"d-grid gap-2 d-sm-flex justify-content-sm-center align-items-center my-1\">\n",
    "                    <input type=\"text\" class=\"form-control\" id=\"req\" name=\"req\" style=\"max-width: 456px;\">\n",
    "                  </div>            \n",
    "                <div class=\"d-grid gap-2 d-sm-flex justify-content-sm-center my-2\">\n",
    "                  <button type=\"submit\" class=\"btn btn-primary btn-lg px-4 gap-3\">Submit Request</button>\n",
    "                </div>            \n",
    "            </div>\n",
    "        </form>\n",
    "     </main>      \n",
    "   </body>\n",
    "</html>''')"
   ]
  },
  {
   "cell_type": "code",
   "execution_count": 0,
   "metadata": {
    "application/vnd.databricks.v1+cell": {
     "cellMetadata": {
      "byteLimit": 2048000,
      "rowLimit": 10000
     },
     "inputWidgets": {},
     "nuid": "fa472d07-de21-4587-b9c9-bdd4871e7db3",
     "showTitle": false,
     "tableResultSettingsMap": {},
     "title": ""
    }
   },
   "outputs": [],
   "source": [
    "with open('hello.html', 'w') as file:\n",
    "    file.write('''<!doctype html>\n",
    "<head>\n",
    "    <title>Hello Azure - Python Quickstart</title>\n",
    "    <link rel=\"stylesheet\" href=\"{{ url_for('static', filename='bootstrap/css/bootstrap.min.css') }}\">\n",
    "    <link rel=\"shortcut icon\" href=\"{{ url_for('static', filename='favicon.ico') }}\">\n",
    "</head>\n",
    "<html>\n",
    "   <body>\n",
    "     <main>\n",
    "        <div class=\"px-4 py-3 my-2 text-center\">\n",
    "            <img class=\"d-block mx-auto mb-4\" src=\"{{ url_for('static', filename='images/azure-icon.svg') }}\" alt=\"Azure Logo\" width=\"192\" height=\"192\"/>\n",
    "            <!-- <img  src=\"/docs/5.1/assets/brand/bootstrap-logo.svg\" alt=\"\" width=\"72\" height=\"57\"> -->\n",
    "            <h1 class=\"display-6 fw-bold\">OpenAI response:</h1>\n",
    "            <p class=\"fs-5\">\n",
    "                {{req}}\n",
    "            </p>\n",
    "            <a href=\"{{ url_for('index') }}\" class=\"btn btn-primary btn-lg px-4 gap-3\">Back home</a>\n",
    "          </div>\n",
    "     </main>      \n",
    "   </body>\n",
    "</html>''')"
   ]
  },
  {
   "cell_type": "code",
   "execution_count": 0,
   "metadata": {
    "application/vnd.databricks.v1+cell": {
     "cellMetadata": {
      "byteLimit": 2048000,
      "rowLimit": 10000
     },
     "inputWidgets": {},
     "nuid": "94fe4903-8a8e-4553-ac1b-f8cc762833b6",
     "showTitle": false,
     "tableResultSettingsMap": {},
     "title": ""
    }
   },
   "outputs": [],
   "source": [
    "# TODO: Replace the following with your own values and use Databricks secret vault instead of plain text.\n",
    "# # Azure OpenAI\n",
    "# api_key = os.environ['API_KEY']\n",
    "# api_version = os.environ['API_VERSION']\n",
    "# azure_deployment = os.environ['AZURE_DEPLOYMENT']\n",
    "# model_name = os.environ['MODEL_NAME']\n",
    "\n",
    "# https://portal.azure.com/#@DataBricksInc.onmicrosoft.com/resource/subscriptions/3f2e4d32-8e8d-46d6-82bc-5bb8d962328b/resourceGroups/fe-shared-amer-001/providers/Microsoft.CognitiveServices/accounts/DFCI-AOAI-Test/overview\n",
    "# Azure OpenAI\n",
    "api_key = os.environ['AZURE_OPENAI_API_KEY']\n",
    "# api_version = os.environ['AZURE_OPENAI_API_VERSION'] = \"2024-10-01\" # from Resource JSON in the portal of the specific Azure OpenAI page.\n",
    "api_version = os.environ['AZURE_OPENAI_API_VERSION'] = \"2024-05-01-preview\" # from Chat playground Sample Code (key authentication)\n",
    "azure_deployment = os.environ['AZURE_OPENAI_ENDPOINT'] = \"https://dfci-aoai-test.openai.azure.com/\"\n",
    "model_name = os.environ['AZURE_OPENAI_MODEL_NAME'] = \"gpt-4o\""
   ]
  },
  {
   "cell_type": "code",
   "execution_count": 0,
   "metadata": {
    "application/vnd.databricks.v1+cell": {
     "cellMetadata": {
      "byteLimit": 2048000,
      "rowLimit": 10000
     },
     "inputWidgets": {},
     "nuid": "f24dcb85-db91-465f-8aad-08372a664e1c",
     "showTitle": true,
     "tableResultSettingsMap": {},
     "title": "create model serving endpoint"
    }
   },
   "outputs": [],
   "source": [
    "# TODO: Replace UI create way with mlflow api way\n",
    "\n",
    "# from mlflow.deployments import get_deploy_client\n",
    "\n",
    "# client = get_deploy_client(\"databricks\")\n",
    "# endpoint = client.create_endpoint(\n",
    "#     name=\"chat\",\n",
    "#     config={\n",
    "#         \"served_entities\": [\n",
    "#             {\n",
    "#                 \"name\": \"chat\",\n",
    "#                 \"external_model\": {\n",
    "#                     \"name\": \"gpt-4o\",\n",
    "#                     \"provider\": \"Azure openai\",\n",
    "#                     \"task\": \"llm/v1/chat\",\n",
    "#                     \"openai_config\": {\n",
    "#                         \"openai_api_key\": \"{{secrets/scope/key}}\",\n",
    "#                     },\n",
    "#                 },\n",
    "#             }\n",
    "#         ],\n",
    "#     },\n",
    "# )\n",
    "# assert endpoint == {\n",
    "#     \"name\": \"chat\",\n",
    "#     \"creator\": \"alice@company.com\",\n",
    "#     \"creation_timestamp\": 0,\n",
    "#     \"last_updated_timestamp\": 0,\n",
    "#     \"state\": {...},\n",
    "#     \"config\": {...},\n",
    "#     \"tags\": [...],\n",
    "#     \"id\": \"88fd3f75a0d24b0380ddc40484d7a31b\",\n",
    "# }\n"
   ]
  },
  {
   "cell_type": "code",
   "execution_count": 0,
   "metadata": {
    "application/vnd.databricks.v1+cell": {
     "cellMetadata": {
      "byteLimit": 2048000,
      "rowLimit": 10000
     },
     "inputWidgets": {},
     "nuid": "63847901-ff62-4e99-9a88-6681d75258d5",
     "showTitle": false,
     "tableResultSettingsMap": {},
     "title": ""
    }
   },
   "outputs": [],
   "source": [
    "#: skip this, not needed\n",
    "# %python\n",
    "# import os\n",
    "\n",
    "# os.environ[\"AZURE_CLIENT_ID\"] = \"your-client-id\"\n",
    "# os.environ[\"AZURE_TENANT_ID\"] = \"your-tenant-id\"\n",
    "# os.environ[\"AZURE_CLIENT_SECRET\"] = \"your-client-secret\""
   ]
  },
  {
   "cell_type": "code",
   "execution_count": 0,
   "metadata": {
    "application/vnd.databricks.v1+cell": {
     "cellMetadata": {},
     "inputWidgets": {},
     "nuid": "e9cae913-f465-440d-8350-161ed7ad7ada",
     "showTitle": false,
     "tableResultSettingsMap": {},
     "title": ""
    }
   },
   "outputs": [],
   "source": []
  },
  {
   "cell_type": "code",
   "execution_count": 0,
   "metadata": {
    "application/vnd.databricks.v1+cell": {
     "cellMetadata": {
      "byteLimit": 2048000,
      "rowLimit": 10000
     },
     "inputWidgets": {},
     "nuid": "ba277ac9-6bc1-493f-9e5d-cbd02dd0c61d",
     "showTitle": true,
     "tableResultSettingsMap": {},
     "title": "setup AOAI client"
    }
   },
   "outputs": [],
   "source": [
    "# endpoint = os.getenv(\"ENDPOINT_URL\", \"https://dfci-aoai-test.openai.azure.com/\")  \n",
    "# deployment = os.getenv(\"DEPLOYMENT_NAME\", \"gpt-4o\")  \n",
    "      \n",
    "# # Initialize Azure OpenAI Service client with Entra ID authentication\n",
    "# token_provider = get_bearer_token_provider(  \n",
    "#     DefaultAzureCredential(),  \n",
    "#     \"https://cognitiveservices.azure.com/.default\"  \n",
    "# )  \n",
    "  \n",
    "# client = AzureOpenAI(  \n",
    "#     azure_endpoint=endpoint,  \n",
    "#     azure_ad_token_provider=token_provider,  \n",
    "#     api_version=\"2024-10-01\",  \n",
    "# )\n",
    "\n",
    "# Alternatively, we don't use managed Azure identity, and use API key authentication.\n",
    "client = AzureOpenAI(\n",
    "    api_key=os.getenv(\"AZURE_OPENAI_API_KEY\"),  \n",
    "    api_version=os.getenv(\"AZURE_OPENAI_API_VERSION\"),\n",
    "    azure_endpoint = os.getenv(\"AZURE_OPENAI_ENDPOINT\")\n",
    "    )"
   ]
  },
  {
   "cell_type": "code",
   "execution_count": 0,
   "metadata": {
    "application/vnd.databricks.v1+cell": {
     "cellMetadata": {
      "byteLimit": 2048000,
      "rowLimit": 10000
     },
     "inputWidgets": {},
     "nuid": "6b497276-7713-46df-9c70-30c53635ade0",
     "showTitle": true,
     "tableResultSettingsMap": {},
     "title": "call AOAI client"
    }
   },
   "outputs": [],
   "source": [
    "# IMAGE_PATH = \"YOUR_IMAGE_PATH\"\n",
    "# encoded_image = base64.b64encode(open(IMAGE_PATH, 'rb').read()).decode('ascii')\n",
    "\n",
    "user_input = \"Could you recommend 4 different stocks across 4 different sectors to buy? Please include tech, healthcare, finance, and energy.\"\n",
    "\n",
    "chat_prompt = [\n",
    "    {\n",
    "        \"role\": \"system\",\n",
    "        \"content\": [\n",
    "            {\n",
    "                \"type\": \"text\",\n",
    "                \"text\": \"Scan the stock market to recommend stocks with strong fundamentals and technical indicators that indicate a good buy price. Provide comprehensive analysis incorporating fundamental data, technical indicators, and market sentiment. Given the complexity of this task, prioritize delivering depth over the total number of stock analyses offered. Recommended output can reasonably focus on 2-3 stocks.\"\n",
    "            }\n",
    "        ]\n",
    "    },\n",
    "    {\n",
    "        \"role\": \"user\",\n",
    "        \"content\": [\n",
    "            {\n",
    "                \"type\": \"text\",\n",
    "                \"text\": f\"{user_input}\"\n",
    "            }\n",
    "        ]\n",
    "    },\n",
    "    {\n",
    "        \"role\": \"assistant\",\n",
    "        \"content\": [\n",
    "            {\n",
    "                \"type\": \"text\",\n",
    "                \"text\": \"\"\n",
    "            }\n",
    "        ]\n",
    "    }\n",
    "] \n",
    "\n",
    "\n",
    "chat_prompt = chat_prompt\n",
    "\n",
    "# Include speech result if speech is enabled  \n",
    "messages = chat_prompt \n",
    "\n",
    "completion = client.chat.completions.create(  \n",
    "    model=model_name,  \n",
    "    messages=messages,\n",
    "    max_tokens=4096,  \n",
    "    temperature=0.7,  \n",
    "    top_p=0.95,  \n",
    "    frequency_penalty=0,  \n",
    "    presence_penalty=0,\n",
    "    stop=None,  \n",
    "    stream=False  \n",
    ")  \n",
    "  \n",
    "print(completion.to_json())"
   ]
  },
  {
   "cell_type": "markdown",
   "metadata": {
    "application/vnd.databricks.v1+cell": {
     "cellMetadata": {},
     "inputWidgets": {},
     "nuid": "a8aa9305-0701-439f-92d5-13f983f4a3a5",
     "showTitle": false,
     "tableResultSettingsMap": {},
     "title": ""
    }
   },
   "source": [
    "## Create an Azure App"
   ]
  },
  {
   "cell_type": "code",
   "execution_count": 0,
   "metadata": {
    "application/vnd.databricks.v1+cell": {
     "cellMetadata": {
      "byteLimit": 2048000,
      "rowLimit": 10000
     },
     "inputWidgets": {},
     "nuid": "77a6e494-3344-4d93-ac4c-4c9004079425",
     "showTitle": true,
     "tableResultSettingsMap": {},
     "title": "create an Azure App"
    }
   },
   "outputs": [],
   "source": [
    "# make sure we have flask >3.0. In runtime ML 15.4, it is old version of flask, so will fail.\n",
    "from flask import Flask, request\n",
    "\n",
    "app = Flask(__name__)\n",
    "\n",
    "@app.route('/hello', methods=['POST'])\n",
    "def hello():\n",
    "   req = request.form.get('req')\n",
    "\n",
    "   llm = AzureOpenAI(\n",
    "       api_key=api_key,\n",
    "       api_version=api_version,\n",
    "       azure_deployment=azure_deployment,\n",
    "       model_name=model_name,\n",
    "   )\n",
    "   text = llm.invoke(req)\n",
    "   return text"
   ]
  },
  {
   "cell_type": "code",
   "execution_count": 0,
   "metadata": {
    "application/vnd.databricks.v1+cell": {
     "cellMetadata": {
      "byteLimit": 2048000,
      "rowLimit": 10000
     },
     "inputWidgets": {},
     "nuid": "8f2b6f10-24e7-412a-b151-6e04c52a70af",
     "showTitle": false,
     "tableResultSettingsMap": {},
     "title": ""
    }
   },
   "outputs": [],
   "source": [
    "# import os\n",
    "\n",
    "# # OpenAI\n",
    "# from langchain_openai import ChatOpenAI\n",
    "\n",
    "# # Azure OpenAI\n",
    "# from langchain_openai import AzureOpenAI"
   ]
  },
  {
   "cell_type": "code",
   "execution_count": 0,
   "metadata": {
    "application/vnd.databricks.v1+cell": {
     "cellMetadata": {},
     "inputWidgets": {},
     "nuid": "cbcf2549-e3d7-41ef-8a68-ff06132fa7e2",
     "showTitle": true,
     "tableResultSettingsMap": {},
     "title": "create an Azure App"
    }
   },
   "outputs": [],
   "source": [
    "# based on above cell, write an web app deployable to Azure App Service via Git repo.\n",
    "import os\n",
    "import base64\n",
    "from flask import Flask, request, jsonify\n",
    "from openai import AzureOpenAI\n",
    "from azure.identity import DefaultAzureCredential, get_bearer_token_provider\n",
    "\n",
    "app = Flask(__name__)\n",
    "\n",
    "endpoint = os.getenv(\"ENDPOINT_URL\", \"https://dfci-aoai-test.openai.azure.com/\")\n",
    "deployment = os.getenv(\"DEPLOYMENT_NAME\", \"gpt-4o\")\n",
    "\n",
    "@app.route('/analyze_stocks', methods=['POST'])\n",
    "def analyze_stocks():\n",
    "    data = request.json\n",
    "    chat_prompt = [\n",
    "        {\n",
    "            \"role\": \"system\",\n",
    "            \"content\": data.get(\"system_content\", \"\")\n",
    "        },\n",
    "        {\n",
    "            \"role\": \"user\",\n",
    "            \"content\": data.get(\"user_content\", \"\")\n",
    "        },\n",
    "        {\n",
    "            \"role\": \"assistant\",\n",
    "            \"content\": data.get(\"assistant_content\", \"\")\n",
    "        }\n",
    "    ]\n",
    "\n",
    "    messages = chat_prompt\n",
    "\n",
    "    completion = client.chat.completions.create(\n",
    "        model=deployment,\n",
    "        messages=messages,\n",
    "        max_tokens=4096,\n",
    "        temperature=0.7,\n",
    "        top_p=0.95,\n",
    "        frequency_penalty=0,\n",
    "        presence_penalty=0,\n",
    "        stop=None,\n",
    "        stream=False\n",
    "    )\n",
    "\n",
    "    return jsonify(completion.to_json())\n",
    "\n",
    "if __name__ == '__main__':\n",
    "    app.run(host='0.0.0.0', port=5000)"
   ]
  },
  {
   "cell_type": "code",
   "execution_count": 0,
   "metadata": {
    "application/vnd.databricks.v1+cell": {
     "cellMetadata": {
      "byteLimit": 2048000,
      "rowLimit": 10000
     },
     "inputWidgets": {},
     "nuid": "c38bd319-5408-49bf-9f63-f3871521c6a3",
     "showTitle": false,
     "tableResultSettingsMap": {},
     "title": ""
    }
   },
   "outputs": [],
   "source": [
    "%pip install -U flask"
   ]
  },
  {
   "cell_type": "code",
   "execution_count": 0,
   "metadata": {
    "application/vnd.databricks.v1+cell": {
     "cellMetadata": {
      "byteLimit": 2048000,
      "rowLimit": 10000
     },
     "inputWidgets": {},
     "nuid": "e0bb5de6-c7f4-479e-a2e2-9f7afd61301d",
     "showTitle": false,
     "tableResultSettingsMap": {},
     "title": ""
    }
   },
   "outputs": [],
   "source": [
    "%restart_python"
   ]
  },
  {
   "cell_type": "code",
   "execution_count": 0,
   "metadata": {
    "application/vnd.databricks.v1+cell": {
     "cellMetadata": {
      "byteLimit": 2048000,
      "rowLimit": 10000
     },
     "inputWidgets": {},
     "nuid": "97c0d11a-8c64-4c3f-8b8d-07e2abdc091a",
     "showTitle": false,
     "tableResultSettingsMap": {},
     "title": ""
    }
   },
   "outputs": [],
   "source": [
    "from flask import Flask, render_template_string\n",
    "\n",
    "app = Flask(__name__)\n",
    "\n",
    "html_code = \"\"\"\n",
    "<!doctype html>\n",
    "<head>\n",
    "    <title>Hello Azure - Python Quickstart</title>\n",
    "    <link rel=\"stylesheet\" href=\"{{ url_for('static', filename='bootstrap/css/bootstrap.min.css') }}\">\n",
    "    <link rel=\"shortcut icon\" href=\"{{ url_for('static', filename='favicon.ico') }}\">\n",
    "</head>\n",
    "<html>\n",
    "   <body>\n",
    "     <main>\n",
    "        <div class=\"px-4 py-3 my-2 text-center\">\n",
    "            <img class=\"d-block mx-auto mb-4\" src=\"{{ url_for('static', filename='images/azure-icon.svg') }}\" alt=\"Azure Logo\" width=\"192\" height=\"192\"/>\n",
    "            <h1 class=\"display-6 fw-bold text-primary\">Welcome to Azure</h1>            \n",
    "          </div>\n",
    "        <form method=\"post\" action=\"{{url_for('hello')}}\">\n",
    "            <div class=\"col-md-6 mx-auto text-center\">\n",
    "                <label for=\"name\" class=\"form-label fw-bold fs-5\">Could you please tell me your name?</label>\n",
    "                <div class=\"d-grid gap-2 d-sm-flex justify-content-sm-center align-items-center my-1\">\n",
    "                    <input type=\"text\" class=\"form-control\" id=\"name\" name=\"name\" style=\"max-width: 256px;\">\n",
    "                  </div>            \n",
    "                <div class=\"d-grid gap-2 d-sm-flex justify-content-sm-center my-2\">\n",
    "                  <button type=\"submit\" class=\"btn btn-primary btn-lg px-4 gap-3\">Say Hello</button>\n",
    "                </div>            \n",
    "            </div>\n",
    "        </form>\n",
    "     </main>      \n",
    "   </body>\n",
    "</html>\n",
    "\"\"\"\n",
    "\n",
    "@app.route('/')\n",
    "def preview():\n",
    "    return render_template_string(html_code)\n",
    "\n",
    "if __name__ == '__main__':\n",
    "    app.run(host='0.0.0.0', port=5000)"
   ]
  },
  {
   "cell_type": "code",
   "execution_count": 0,
   "metadata": {
    "application/vnd.databricks.v1+cell": {
     "cellMetadata": {
      "byteLimit": 2048000,
      "rowLimit": 10000
     },
     "inputWidgets": {},
     "nuid": "289106db-3050-48c0-8747-0bd344803c00",
     "showTitle": false,
     "tableResultSettingsMap": {},
     "title": ""
    }
   },
   "outputs": [],
   "source": [
    "import os\n",
    "from flask import Flask, request, jsonify\n",
    "from openai import AzureOpenAI\n",
    "\n",
    "app = Flask(__name__)\n",
    "\n",
    "api_key = os.getenv(\"AZURE_OPENAI_API_KEY\")\n",
    "api_version = os.getenv(\"AZURE_OPENAI_API_VERSION\", \"2024-05-01-preview\")\n",
    "azure_endpoint = os.getenv(\"AZURE_OPENAI_ENDPOINT\", \"https://your-endpoint.openai.azure.com/\")\n",
    "model_name = os.getenv(\"AZURE_OPENAI_MODEL_NAME\", \"gpt-4o\")\n",
    "\n",
    "client = AzureOpenAI(\n",
    "    api_key=api_key,\n",
    "    api_version=api_version,\n",
    "    azure_endpoint=azure_endpoint\n",
    ")\n",
    "\n",
    "@app.route('/analyze_stocks', methods=['POST'])\n",
    "def analyze_stocks():\n",
    "    data = request.json\n",
    "    chat_prompt = [\n",
    "        {\n",
    "            \"role\": \"system\",\n",
    "            \"content\": data.get(\"system_content\", \"\")\n",
    "        },\n",
    "        {\n",
    "            \"role\": \"user\",\n",
    "            \"content\": data.get(\"user_content\", \"\")\n",
    "        },\n",
    "        {\n",
    "            \"role\": \"assistant\",\n",
    "            \"content\": data.get(\"assistant_content\", \"\")\n",
    "        }\n",
    "    ]\n",
    "\n",
    "    messages = chat_prompt\n",
    "\n",
    "    completion = client.chat.completions.create(\n",
    "        model=model_name,\n",
    "        messages=messages,\n",
    "        max_tokens=4096,\n",
    "        temperature=0.7,\n",
    "        top_p=0.95,\n",
    "        frequency_penalty=0,\n",
    "        presence_penalty=0,\n",
    "        stop=None,\n",
    "        stream=False\n",
    "    )\n",
    "\n",
    "    return jsonify(completion.to_json())\n",
    "\n",
    "if __name__ == '__main__':\n",
    "    app.run(host='0.0.0.0', port=5000, debug=True)"
   ]
  },
  {
   "cell_type": "code",
   "execution_count": 0,
   "metadata": {
    "application/vnd.databricks.v1+cell": {
     "cellMetadata": {
      "byteLimit": 2048000,
      "rowLimit": 10000
     },
     "inputWidgets": {},
     "nuid": "6f231df9-579d-4004-af1f-064ca0641e6d",
     "showTitle": true,
     "tableResultSettingsMap": {},
     "title": "full app"
    }
   },
   "outputs": [],
   "source": [
    "import os \n",
    "import base64\n",
    "import openai\n",
    "from openai import AzureOpenAI  \n",
    "from azure.identity import DefaultAzureCredential, get_bearer_token_provider\n",
    "print(openai.__version__)\n",
    "\n",
    "\n",
    "\n",
    "# Azure OpenAI\n",
    "api_key = os.environ['AZURE_OPENAI_API_KEY']\n",
    "# api_version = os.environ['AZURE_OPENAI_API_VERSION'] = \"2024-10-01\" # from Resource JSON in the portal of the specific Azure OpenAI page.\n",
    "api_version = os.environ['AZURE_OPENAI_API_VERSION'] = \"2024-05-01-preview\" # from Chat playground Sample Code (key authentication)\n",
    "azure_deployment = os.environ['AZURE_OPENAI_ENDPOINT'] = \"https://dfci-aoai-test.openai.azure.com/\"\n",
    "model_name = os.environ['AZURE_OPENAI_MODEL_NAME'] = \"gpt-4o\"\n",
    "\n",
    "\n",
    "# Alternatively, we don't use managed Azure identity, and use API key authentication.\n",
    "client = AzureOpenAI(\n",
    "    api_key=os.getenv(\"AZURE_OPENAI_API_KEY\"),  \n",
    "    api_version=os.getenv(\"AZURE_OPENAI_API_VERSION\"),\n",
    "    azure_endpoint = os.getenv(\"AZURE_OPENAI_ENDPOINT\")\n",
    "    )\n",
    "\n",
    "\n",
    "# make sure we have flask >3.0. In runtime ML 15.4, it is old version of flask, so will fail.\n",
    "from flask import (Flask, redirect, render_template, request, send_from_directory, url_for)\n",
    "\n",
    "app = Flask(__name__)\n",
    "\n",
    "\n",
    "@app.route('/')\n",
    "def index():\n",
    "   print('Request for index page received')\n",
    "   return render_template('index.html')\n",
    "\n",
    "@app.route('/favicon.ico')\n",
    "def favicon():\n",
    "    return send_from_directory(os.path.join(app.root_path, 'static'),\n",
    "                               'favicon.ico', mimetype='image/vnd.microsoft.icon')\n",
    "\n",
    "@app.route('/hello', methods=['POST'])\n",
    "def hello():\n",
    "   req = request.form.get('req')\n",
    "\n",
    "   # Azure OpenAI\n",
    "   llm = AzureOpenAI(\n",
    "       api_key=api_key,\n",
    "       api_version=api_version,\n",
    "       azure_deployment=azure_deployment,\n",
    "       model_name=model_name,\n",
    "   )\n",
    "   text = llm.invoke(req)\n",
    "\n",
    "   # OpenAI\n",
    "\t # llm = ChatOpenAI(openai_api_key=openai_api_key)\n",
    "\t # text = llm.invoke(req)\n",
    "\n",
    "   if req:\n",
    "       print('Request for hello page received with req=%s' % req)\n",
    "       return render_template('hello.html', req = text)\n",
    "   else:\n",
    "       print('Request for hello page received with no name or blank name -- redirecting')\n",
    "       return redirect(url_for('index'))\n",
    "   \n",
    "if __name__ == '__main__':\n",
    "   app.run(host='0.0.0.0', port=5000)\n",
    "\n"
   ]
  },
  {
   "cell_type": "markdown",
   "metadata": {
    "application/vnd.databricks.v1+cell": {
     "cellMetadata": {},
     "inputWidgets": {},
     "nuid": "af8f375e-c966-4414-b385-3b4f366b8558",
     "showTitle": false,
     "tableResultSettingsMap": {},
     "title": ""
    }
   },
   "source": [
    "## Test app locally"
   ]
  },
  {
   "cell_type": "code",
   "execution_count": 0,
   "metadata": {
    "application/vnd.databricks.v1+cell": {
     "cellMetadata": {
      "byteLimit": 2048000,
      "rowLimit": 10000
     },
     "inputWidgets": {},
     "nuid": "b42e2797-1646-4aff-b951-7254d6eb8749",
     "showTitle": false,
     "tableResultSettingsMap": {},
     "title": ""
    }
   },
   "outputs": [],
   "source": [
    "%pip install -U openai azure-identity"
   ]
  },
  {
   "cell_type": "code",
   "execution_count": 0,
   "metadata": {
    "application/vnd.databricks.v1+cell": {
     "cellMetadata": {
      "byteLimit": 2048000,
      "rowLimit": 10000
     },
     "inputWidgets": {},
     "nuid": "8d40e9f4-9721-40d6-ae29-34467e344079",
     "showTitle": false,
     "tableResultSettingsMap": {},
     "title": ""
    }
   },
   "outputs": [],
   "source": [
    "%pip install -U flask"
   ]
  },
  {
   "cell_type": "code",
   "execution_count": 0,
   "metadata": {
    "application/vnd.databricks.v1+cell": {
     "cellMetadata": {
      "byteLimit": 2048000,
      "rowLimit": 10000
     },
     "inputWidgets": {},
     "nuid": "6a1c3c99-3de8-48aa-ab92-4c546b9b7124",
     "showTitle": false,
     "tableResultSettingsMap": {},
     "title": ""
    }
   },
   "outputs": [],
   "source": [
    "dbutils.library.restartPython()"
   ]
  },
  {
   "cell_type": "code",
   "execution_count": 0,
   "metadata": {
    "application/vnd.databricks.v1+cell": {
     "cellMetadata": {
      "byteLimit": 2048000,
      "rowLimit": 10000
     },
     "inputWidgets": {},
     "nuid": "d15bf9aa-2e13-4afc-ad50-3ed6c4ee056c",
     "showTitle": false,
     "tableResultSettingsMap": {},
     "title": ""
    }
   },
   "outputs": [],
   "source": [
    "%python\n",
    "%run -i app.py"
   ]
  },
  {
   "cell_type": "code",
   "execution_count": 0,
   "metadata": {
    "application/vnd.databricks.v1+cell": {
     "cellMetadata": {
      "byteLimit": 2048000,
      "rowLimit": 10000
     },
     "inputWidgets": {},
     "nuid": "eb31fa99-3c26-44c9-b5b2-06b6e4150d92",
     "showTitle": false,
     "tableResultSettingsMap": {},
     "title": ""
    }
   },
   "outputs": [],
   "source": [
    "import os\n",
    "import base64\n",
    "from flask import Flask, request, jsonify\n",
    "from openai import AzureOpenAI\n",
    "from azure.identity import DefaultAzureCredential, get_bearer_token_provider\n",
    "\n",
    "app = Flask(__name__)\n",
    "\n",
    "endpoint = os.getenv(\"ENDPOINT_URL\", \"https://dfci-aoai-test.openai.azure.com/\")\n",
    "deployment = os.getenv(\"DEPLOYMENT_NAME\", \"gpt-4o\")\n",
    "\n",
    "@app.route('/analyze_stocks', methods=['POST'])\n",
    "def analyze_stocks():\n",
    "    data = request.json\n",
    "    chat_prompt = [\n",
    "        {\n",
    "            \"role\": \"system\",\n",
    "            \"content\": data.get(\"system_content\", \"\")\n",
    "        },\n",
    "        {\n",
    "            \"role\": \"user\",\n",
    "            \"content\": data.get(\"user_content\", \"\")\n",
    "        },\n",
    "        {\n",
    "            \"role\": \"assistant\",\n",
    "            \"content\": data.get(\"assistant_content\", \"\")\n",
    "        }\n",
    "    ]\n",
    "\n",
    "    messages = chat_prompt\n",
    "\n",
    "    completion = client.chat.completions.create(\n",
    "        model=deployment,\n",
    "        messages=messages,\n",
    "        max_tokens=4096,\n",
    "        temperature=0.7,\n",
    "        top_p=0.95,\n",
    "        frequency_penalty=0,\n",
    "        presence_penalty=0,\n",
    "        stop=None,\n",
    "        stream=False\n",
    "    )\n",
    "\n",
    "    return jsonify(completion.to_json())\n",
    "\n",
    "if __name__ == '__main__':\n",
    "    app.run(host='0.0.0.0', port=5000)"
   ]
  },
  {
   "cell_type": "code",
   "execution_count": 0,
   "metadata": {
    "application/vnd.databricks.v1+cell": {
     "cellMetadata": {},
     "inputWidgets": {},
     "nuid": "b050aaec-4698-4140-9571-1fd55214d311",
     "showTitle": false,
     "tableResultSettingsMap": {},
     "title": ""
    }
   },
   "outputs": [],
   "source": [
    "!flask run --host=0.0.0.0 --port=5000"
   ]
  },
  {
   "cell_type": "code",
   "execution_count": 0,
   "metadata": {
    "application/vnd.databricks.v1+cell": {
     "cellMetadata": {
      "byteLimit": 2048000,
      "rowLimit": 10000
     },
     "inputWidgets": {},
     "nuid": "987e9afe-843c-4580-bd32-c72a2789bfb1",
     "showTitle": false,
     "tableResultSettingsMap": {},
     "title": ""
    }
   },
   "outputs": [],
   "source": [
    "%sh\n",
    "cd msdocs-python-flask-webapp-quickstart\n",
    "python3 -m venv .venv\n",
    "source .venv/bin/activate\n",
    "pip install -r requirements.txt\n",
    "flask run\n"
   ]
  },
  {
   "cell_type": "markdown",
   "metadata": {
    "application/vnd.databricks.v1+cell": {
     "cellMetadata": {},
     "inputWidgets": {},
     "nuid": "2991ef09-8a14-410a-999f-a3fe53b0b145",
     "showTitle": false,
     "tableResultSettingsMap": {},
     "title": ""
    }
   },
   "source": [
    "# New Tests"
   ]
  },
  {
   "cell_type": "code",
   "execution_count": 0,
   "metadata": {
    "application/vnd.databricks.v1+cell": {
     "cellMetadata": {
      "byteLimit": 2048000,
      "rowLimit": 10000
     },
     "inputWidgets": {},
     "nuid": "362db2c0-ab02-47c9-a0a6-de9c7692fd60",
     "showTitle": false,
     "tableResultSettingsMap": {},
     "title": ""
    }
   },
   "outputs": [],
   "source": [
    "%pip install -U flask"
   ]
  },
  {
   "cell_type": "code",
   "execution_count": 0,
   "metadata": {
    "application/vnd.databricks.v1+cell": {
     "cellMetadata": {
      "byteLimit": 2048000,
      "rowLimit": 10000
     },
     "inputWidgets": {},
     "nuid": "6b1c5201-9192-4450-848e-7b5b69189146",
     "showTitle": false,
     "tableResultSettingsMap": {},
     "title": ""
    }
   },
   "outputs": [],
   "source": [
    "%pip install --upgrade langchain_openai\n",
    "%pip install --upgrade langchain langchain-community langchain-core\n",
    "\n"
   ]
  },
  {
   "cell_type": "code",
   "execution_count": 0,
   "metadata": {
    "application/vnd.databricks.v1+cell": {
     "cellMetadata": {
      "byteLimit": 2048000,
      "rowLimit": 10000
     },
     "inputWidgets": {},
     "nuid": "cbf00bba-9327-4b49-8d58-2bc274b435cc",
     "showTitle": false,
     "tableResultSettingsMap": {},
     "title": ""
    }
   },
   "outputs": [],
   "source": [
    "%restart_python"
   ]
  },
  {
   "cell_type": "code",
   "execution_count": 0,
   "metadata": {
    "application/vnd.databricks.v1+cell": {
     "cellMetadata": {
      "byteLimit": 2048000,
      "rowLimit": 10000
     },
     "inputWidgets": {},
     "nuid": "3f5f7f0e-d5b2-4588-a162-dd13fdce15ee",
     "showTitle": true,
     "tableResultSettingsMap": {},
     "title": "1"
    }
   },
   "outputs": [],
   "source": [
    "import os\n",
    "from flask import Flask, request, jsonify, render_template\n",
    "from openai import AzureOpenAI\n",
    "\n",
    "app = Flask(__name__)\n",
    "\n",
    "api_key = os.getenv(\"AZURE_OPENAI_API_KEY\")\n",
    "api_version = os.getenv(\"AZURE_OPENAI_API_VERSION\", \"2024-05-01-preview\")\n",
    "azure_endpoint = os.getenv(\"AZURE_OPENAI_ENDPOINT\", \"https://dfci-aoai-test.openai.azure.com/\")\n",
    "model_name = os.getenv(\"AZURE_OPENAI_MODEL_NAME\", \"gpt-4o\")\n",
    "\n",
    "client = AzureOpenAI(\n",
    "    api_key=api_key,\n",
    "    api_version=api_version,\n",
    "    azure_endpoint=azure_endpoint\n",
    ")\n",
    "\n",
    "@app.route('/')\n",
    "def index():\n",
    "    print('Request for index page received')\n",
    "    return render_template('index.html')\n",
    "  \n",
    "@app.route('/aoai_query')\n",
    "def aoai_query():\n",
    "    print('Request for aoai_query page received')\n",
    "    return render_template('aoai_query.html')\n",
    "  \n",
    "\n",
    "@app.route('/analyze_stocks', methods=['POST'])\n",
    "def analyze_stocks():\n",
    "    data = request.form\n",
    "    chat_prompt = [\n",
    "        {\n",
    "            \"role\": \"system\",\n",
    "            \"content\": data.get(\"system_content\", \"\")\n",
    "        },\n",
    "        {\n",
    "            \"role\": \"user\",\n",
    "            \"content\": data.get(\"user_content\", \"\")\n",
    "        },\n",
    "        {\n",
    "            \"role\": \"assistant\",\n",
    "            \"content\": data.get(\"assistant_content\", \"\")\n",
    "        }\n",
    "    ]\n",
    "\n",
    "    messages = chat_prompt\n",
    "\n",
    "    completion = client.chat.completions.create(\n",
    "        model=model_name,\n",
    "        messages=messages,\n",
    "        max_tokens=4096,\n",
    "        temperature=0.7,\n",
    "        top_p=0.95,\n",
    "        frequency_penalty=0,\n",
    "        presence_penalty=0,\n",
    "        stop=None,\n",
    "        stream=False\n",
    "    )\n",
    "\n",
    "    return jsonify(completion.to_json())\n",
    "\n",
    "if __name__ == '__main__':\n",
    "    app.run(host='0.0.0.0', port=5000, debug=False)"
   ]
  },
  {
   "cell_type": "code",
   "execution_count": 0,
   "metadata": {
    "application/vnd.databricks.v1+cell": {
     "cellMetadata": {
      "byteLimit": 2048000,
      "rowLimit": 10000
     },
     "inputWidgets": {},
     "nuid": "31cf302f-35ad-4138-988e-404ccc968669",
     "showTitle": true,
     "tableResultSettingsMap": {},
     "title": "2"
    }
   },
   "outputs": [],
   "source": [
    "import os\n",
    "# Azure OpenAI\n",
    "from langchain_openai import AzureOpenAI\n",
    "\n",
    "\n",
    "from flask import (Flask, redirect, render_template, request,\n",
    "                   send_from_directory, url_for)\n",
    "\n",
    "app = Flask(__name__)\n",
    "\n",
    "@app.route('/')\n",
    "def index():\n",
    "   print('Request for index page received')\n",
    "   return render_template('index.html')\n",
    "\n",
    "@app.route('/favicon.ico')\n",
    "def favicon():\n",
    "    return send_from_directory(os.path.join(app.root_path, 'static'),\n",
    "                               'favicon.ico', mimetype='image/vnd.microsoft.icon')\n",
    "\n",
    "# Azure OpenAI\n",
    "api_key = os.getenv(\"AZURE_OPENAI_API_KEY\")\n",
    "api_version = os.getenv(\"AZURE_OPENAI_API_VERSION\", \"2024-05-01-preview\")\n",
    "azure_endpoint = os.getenv(\"AZURE_OPENAI_ENDPOINT\", \"https://dfci-aoai-test.openai.azure.com/\")\n",
    "model_name = os.getenv(\"AZURE_OPENAI_MODEL_NAME\", \"gpt-4o\")\n",
    "\n",
    "# OpenAI\n",
    "# openai_api_key = os.environ['OPENAI_API_KEY']\n",
    "\n",
    "@app.route('/hello', methods=['POST'])\n",
    "def hello():\n",
    "   req = request.form.get('req')\n",
    "\n",
    "   # Azure OpenAI\n",
    "   llm = AzureOpenAI(\n",
    "       api_key=api_key,\n",
    "       api_version=api_version,\n",
    "       azure_deployment=azure_deployment,\n",
    "       model_name=model_name,\n",
    "   )\n",
    "   text = llm.invoke2(req)\n",
    "\n",
    "   # OpenAI\n",
    "\t # llm = ChatOpenAI(openai_api_key=openai_api_key)\n",
    "\t # text = llm.invoke(req)\n",
    "\n",
    "   if req:\n",
    "       print('Request for hello page received with req=%s' % req)\n",
    "       return render_template('hello.html', req = text)\n",
    "   else:\n",
    "       print('Request for hello page received with no name or blank name -- redirecting')\n",
    "       return redirect(url_for('index'))\n",
    "\n",
    "if __name__ == '__main__':\n",
    "   app.run()"
   ]
  },
  {
   "cell_type": "code",
   "execution_count": 0,
   "metadata": {
    "application/vnd.databricks.v1+cell": {
     "cellMetadata": {
      "byteLimit": 2048000,
      "rowLimit": 10000
     },
     "inputWidgets": {},
     "nuid": "ce4b8a54-791d-427d-8f4e-dc9a7d455c4e",
     "showTitle": true,
     "tableResultSettingsMap": {},
     "title": "exec run"
    }
   },
   "outputs": [],
   "source": [
    "app = Flask(__name__)\n",
    "if __name__ == '__main__':\n",
    "   app.run()"
   ]
  },
  {
   "cell_type": "code",
   "execution_count": 0,
   "metadata": {
    "application/vnd.databricks.v1+cell": {
     "cellMetadata": {
      "byteLimit": 2048000,
      "rowLimit": 10000
     },
     "inputWidgets": {},
     "nuid": "39ad09fc-a4d7-49f8-bf17-be44d6a452f9",
     "showTitle": true,
     "tableResultSettingsMap": {},
     "title": "exec run sh"
    }
   },
   "outputs": [],
   "source": [
    "%sh flask run --host=0.0.0.0 --port=5000"
   ]
  },
  {
   "cell_type": "code",
   "execution_count": 0,
   "metadata": {
    "application/vnd.databricks.v1+cell": {
     "cellMetadata": {},
     "inputWidgets": {},
     "nuid": "7043839a-f4c3-4a87-88c9-004efca87c29",
     "showTitle": true,
     "tableResultSettingsMap": {},
     "title": "app.py backup"
    }
   },
   "outputs": [],
   "source": [
    "# import os \n",
    "# import base64\n",
    "# import openai\n",
    "# from openai import AzureOpenAI  \n",
    "# from azure.identity import DefaultAzureCredential, get_bearer_token_provider\n",
    "# print(openai.__version__)\n",
    "\n",
    "# # Azure OpenAI\n",
    "# api_key = os.environ['AZURE_OPENAI_API_KEY'] = dbutils.secrets.get(scope=\"yyang_secret_scope\", key=\"AZURE_OPENAI_API_KEY\")\n",
    "# # api_version = os.environ['AZURE_OPENAI_API_VERSION'] = \"2024-10-01\" # from Resource JSON in the portal of the specific Azure OpenAI page.\n",
    "# api_version = os.environ['AZURE_OPENAI_API_VERSION'] = \"2024-05-01-preview\" # from Chat playground Sample Code (key authentication)\n",
    "# azure_deployment = os.environ['AZURE_OPENAI_ENDPOINT'] = \"https://dfci-aoai-test.openai.azure.com/\"\n",
    "# model_name = os.environ['AZURE_OPENAI_MODEL_NAME'] = \"gpt-4o\"\n",
    "\n",
    "\n",
    "# # Alternatively, we don't use managed Azure identity, and use API key authentication.\n",
    "# client = AzureOpenAI(\n",
    "#     api_key=os.getenv(\"AZURE_OPENAI_API_KEY\"),  \n",
    "#     api_version=os.getenv(\"AZURE_OPENAI_API_VERSION\"),\n",
    "#     azure_endpoint = os.getenv(\"AZURE_OPENAI_ENDPOINT\")\n",
    "#     )\n",
    "\n",
    "\n",
    "# # make sure we have flask >3.0. In runtime ML 15.4, it is old version of flask, so will fail.\n",
    "# from flask import (Flask, redirect, render_template, request, send_from_directory, url_for)\n",
    "\n",
    "# app = Flask(__name__)\n",
    "\n",
    "\n",
    "# @app.route('/')\n",
    "# def index():\n",
    "#    print('Request for index page received')\n",
    "#    return render_template('index.html')\n",
    "\n",
    "# @app.route('/favicon.ico')\n",
    "# def favicon():\n",
    "#     return send_from_directory(os.path.join(app.root_path, 'static'),\n",
    "#                                'favicon.ico', mimetype='image/vnd.microsoft.icon')\n",
    "\n",
    "# @app.route('/hello', methods=['POST'])\n",
    "# def hello():\n",
    "#    req = request.form.get('req')\n",
    "\n",
    "#    # Azure OpenAI\n",
    "#    llm = AzureOpenAI(\n",
    "#        api_key=api_key,\n",
    "#        api_version=api_version,\n",
    "#        azure_deployment=azure_deployment,\n",
    "#        model_name=model_name,\n",
    "#    )\n",
    "#    text = llm.invoke(req)\n",
    "\n",
    "#    # OpenAI\n",
    "# \t # llm = ChatOpenAI(openai_api_key=openai_api_key)\n",
    "# \t # text = llm.invoke(req)\n",
    "\n",
    "#    if req:\n",
    "#        print('Request for hello page received with req=%s' % req)\n",
    "#        return render_template('hello.html', req = text)\n",
    "#    else:\n",
    "#        print('Request for hello page received with no name or blank name -- redirecting')\n",
    "#        return redirect(url_for('index'))\n",
    "   \n",
    "# if __name__ == '__main__':\n",
    "#    app.run()\n",
    "\n"
   ]
  }
 ],
 "metadata": {
  "application/vnd.databricks.v1+notebook": {
   "computePreferences": null,
   "dashboards": [],
   "environmentMetadata": {
    "base_environment": "",
    "environment_version": "2"
   },
   "language": "python",
   "notebookMetadata": {
    "mostRecentlyExecutedCommandWithImplicitDF": {
     "commandId": 1242762840120023,
     "dataframes": [
      "_sqldf"
     ]
    },
    "pythonIndentUnit": 2
   },
   "notebookName": "(obsolete) DFCI-Demo-App",
   "widgets": {}
  },
  "language_info": {
   "name": "python"
  }
 },
 "nbformat": 4,
 "nbformat_minor": 0
}
